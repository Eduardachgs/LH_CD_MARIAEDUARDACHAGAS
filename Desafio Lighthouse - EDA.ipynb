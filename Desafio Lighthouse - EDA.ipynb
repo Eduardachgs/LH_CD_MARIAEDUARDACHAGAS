{
 "cells": [
  {
   "cell_type": "markdown",
   "id": "706dc906",
   "metadata": {},
   "source": [
    "# Desafio de Ciência de Dados\n",
    "\n",
    "### Dicionário de Dados\n",
    "* id – Atua como uma chave exclusiva para cada anúncio nos dados do aplicativo\n",
    "* nome - Representa o nome do anúncio\n",
    "* host_id - Representa o id do usuário que hospedou o anúncio\n",
    "* host_name – Contém o nome do usuário que hospedou o anúncio\n",
    "* bairro_group - Contém o nome do bairro onde o anúncio está localizado\n",
    "* bairro - Contém o nome da área onde o anúncio está localizado\n",
    "* latitude - Contém a latitude do local\n",
    "* longitude - Contém a longitude do local\n",
    "* room_type – Contém o tipo de espaço de cada anúncio\n",
    "* price - Contém o preço por noite em dólares listado pelo anfitrião\n",
    "* minimo_noites - Contém o número mínimo de noites que o usuário deve reservar\n",
    "* numero_de_reviews - Contém o número de comentários dados a cada listagem\n",
    "* ultima_review - Contém a data da última revisão dada à listagem\n",
    "* reviews_por_mes - Contém o número de avaliações fornecidas por mês\n",
    "* calculado_host_listings_count - Contém a quantidade de listagem por host\n",
    "* disponibilidade_365 - Contém o número de dias em que o anúncio está disponível para reserva"
   ]
  },
  {
   "cell_type": "code",
   "execution_count": 192,
   "id": "822a4fed",
   "metadata": {},
   "outputs": [],
   "source": [
    "# importando bibliotecas\n",
    "import pandas as pd\n",
    "import matplotlib.pyplot as plt\n",
    "import seaborn as sns"
   ]
  },
  {
   "cell_type": "markdown",
   "id": "d9d87e1e",
   "metadata": {},
   "source": [
    "# Exploratory Data Analysis (EDA)"
   ]
  },
  {
   "cell_type": "markdown",
   "id": "df316e3e",
   "metadata": {},
   "source": [
    "## Verificando Informações e Estatísticas Inciais"
   ]
  },
  {
   "cell_type": "code",
   "execution_count": 193,
   "id": "556ddf11",
   "metadata": {
    "scrolled": true
   },
   "outputs": [
    {
     "data": {
      "text/html": [
       "<div>\n",
       "<style scoped>\n",
       "    .dataframe tbody tr th:only-of-type {\n",
       "        vertical-align: middle;\n",
       "    }\n",
       "\n",
       "    .dataframe tbody tr th {\n",
       "        vertical-align: top;\n",
       "    }\n",
       "\n",
       "    .dataframe thead th {\n",
       "        text-align: right;\n",
       "    }\n",
       "</style>\n",
       "<table border=\"1\" class=\"dataframe\">\n",
       "  <thead>\n",
       "    <tr style=\"text-align: right;\">\n",
       "      <th></th>\n",
       "      <th>id</th>\n",
       "      <th>nome</th>\n",
       "      <th>host_id</th>\n",
       "      <th>host_name</th>\n",
       "      <th>bairro_group</th>\n",
       "      <th>bairro</th>\n",
       "      <th>latitude</th>\n",
       "      <th>longitude</th>\n",
       "      <th>room_type</th>\n",
       "      <th>price</th>\n",
       "      <th>minimo_noites</th>\n",
       "      <th>numero_de_reviews</th>\n",
       "      <th>ultima_review</th>\n",
       "      <th>reviews_por_mes</th>\n",
       "      <th>calculado_host_listings_count</th>\n",
       "      <th>disponibilidade_365</th>\n",
       "    </tr>\n",
       "  </thead>\n",
       "  <tbody>\n",
       "    <tr>\n",
       "      <th>0</th>\n",
       "      <td>2595</td>\n",
       "      <td>Skylit Midtown Castle</td>\n",
       "      <td>2845</td>\n",
       "      <td>Jennifer</td>\n",
       "      <td>Manhattan</td>\n",
       "      <td>Midtown</td>\n",
       "      <td>40.75362</td>\n",
       "      <td>-73.98377</td>\n",
       "      <td>Entire home/apt</td>\n",
       "      <td>225</td>\n",
       "      <td>1</td>\n",
       "      <td>45</td>\n",
       "      <td>2019-05-21</td>\n",
       "      <td>0.38</td>\n",
       "      <td>2</td>\n",
       "      <td>355</td>\n",
       "    </tr>\n",
       "    <tr>\n",
       "      <th>1</th>\n",
       "      <td>3647</td>\n",
       "      <td>THE VILLAGE OF HARLEM....NEW YORK !</td>\n",
       "      <td>4632</td>\n",
       "      <td>Elisabeth</td>\n",
       "      <td>Manhattan</td>\n",
       "      <td>Harlem</td>\n",
       "      <td>40.80902</td>\n",
       "      <td>-73.94190</td>\n",
       "      <td>Private room</td>\n",
       "      <td>150</td>\n",
       "      <td>3</td>\n",
       "      <td>0</td>\n",
       "      <td>NaN</td>\n",
       "      <td>NaN</td>\n",
       "      <td>1</td>\n",
       "      <td>365</td>\n",
       "    </tr>\n",
       "    <tr>\n",
       "      <th>2</th>\n",
       "      <td>3831</td>\n",
       "      <td>Cozy Entire Floor of Brownstone</td>\n",
       "      <td>4869</td>\n",
       "      <td>LisaRoxanne</td>\n",
       "      <td>Brooklyn</td>\n",
       "      <td>Clinton Hill</td>\n",
       "      <td>40.68514</td>\n",
       "      <td>-73.95976</td>\n",
       "      <td>Entire home/apt</td>\n",
       "      <td>89</td>\n",
       "      <td>1</td>\n",
       "      <td>270</td>\n",
       "      <td>2019-07-05</td>\n",
       "      <td>4.64</td>\n",
       "      <td>1</td>\n",
       "      <td>194</td>\n",
       "    </tr>\n",
       "    <tr>\n",
       "      <th>3</th>\n",
       "      <td>5022</td>\n",
       "      <td>Entire Apt: Spacious Studio/Loft by central park</td>\n",
       "      <td>7192</td>\n",
       "      <td>Laura</td>\n",
       "      <td>Manhattan</td>\n",
       "      <td>East Harlem</td>\n",
       "      <td>40.79851</td>\n",
       "      <td>-73.94399</td>\n",
       "      <td>Entire home/apt</td>\n",
       "      <td>80</td>\n",
       "      <td>10</td>\n",
       "      <td>9</td>\n",
       "      <td>2018-11-19</td>\n",
       "      <td>0.10</td>\n",
       "      <td>1</td>\n",
       "      <td>0</td>\n",
       "    </tr>\n",
       "    <tr>\n",
       "      <th>4</th>\n",
       "      <td>5099</td>\n",
       "      <td>Large Cozy 1 BR Apartment In Midtown East</td>\n",
       "      <td>7322</td>\n",
       "      <td>Chris</td>\n",
       "      <td>Manhattan</td>\n",
       "      <td>Murray Hill</td>\n",
       "      <td>40.74767</td>\n",
       "      <td>-73.97500</td>\n",
       "      <td>Entire home/apt</td>\n",
       "      <td>200</td>\n",
       "      <td>3</td>\n",
       "      <td>74</td>\n",
       "      <td>2019-06-22</td>\n",
       "      <td>0.59</td>\n",
       "      <td>1</td>\n",
       "      <td>129</td>\n",
       "    </tr>\n",
       "  </tbody>\n",
       "</table>\n",
       "</div>"
      ],
      "text/plain": [
       "     id                                              nome  host_id  \\\n",
       "0  2595                             Skylit Midtown Castle     2845   \n",
       "1  3647               THE VILLAGE OF HARLEM....NEW YORK !     4632   \n",
       "2  3831                   Cozy Entire Floor of Brownstone     4869   \n",
       "3  5022  Entire Apt: Spacious Studio/Loft by central park     7192   \n",
       "4  5099         Large Cozy 1 BR Apartment In Midtown East     7322   \n",
       "\n",
       "     host_name bairro_group        bairro  latitude  longitude  \\\n",
       "0     Jennifer    Manhattan       Midtown  40.75362  -73.98377   \n",
       "1    Elisabeth    Manhattan        Harlem  40.80902  -73.94190   \n",
       "2  LisaRoxanne     Brooklyn  Clinton Hill  40.68514  -73.95976   \n",
       "3        Laura    Manhattan   East Harlem  40.79851  -73.94399   \n",
       "4        Chris    Manhattan   Murray Hill  40.74767  -73.97500   \n",
       "\n",
       "         room_type  price  minimo_noites  numero_de_reviews ultima_review  \\\n",
       "0  Entire home/apt    225              1                 45    2019-05-21   \n",
       "1     Private room    150              3                  0           NaN   \n",
       "2  Entire home/apt     89              1                270    2019-07-05   \n",
       "3  Entire home/apt     80             10                  9    2018-11-19   \n",
       "4  Entire home/apt    200              3                 74    2019-06-22   \n",
       "\n",
       "   reviews_por_mes  calculado_host_listings_count  disponibilidade_365  \n",
       "0             0.38                              2                  355  \n",
       "1              NaN                              1                  365  \n",
       "2             4.64                              1                  194  \n",
       "3             0.10                              1                    0  \n",
       "4             0.59                              1                  129  "
      ]
     },
     "execution_count": 193,
     "metadata": {},
     "output_type": "execute_result"
    }
   ],
   "source": [
    "df_precificacao = pd.read_csv('teste_indicium_precificacao.csv') # Carregando o dataset\n",
    "df_precificacao.head()"
   ]
  },
  {
   "cell_type": "code",
   "execution_count": 194,
   "id": "aad7a84f",
   "metadata": {},
   "outputs": [
    {
     "data": {
      "text/html": [
       "<div>\n",
       "<style scoped>\n",
       "    .dataframe tbody tr th:only-of-type {\n",
       "        vertical-align: middle;\n",
       "    }\n",
       "\n",
       "    .dataframe tbody tr th {\n",
       "        vertical-align: top;\n",
       "    }\n",
       "\n",
       "    .dataframe thead th {\n",
       "        text-align: right;\n",
       "    }\n",
       "</style>\n",
       "<table border=\"1\" class=\"dataframe\">\n",
       "  <thead>\n",
       "    <tr style=\"text-align: right;\">\n",
       "      <th></th>\n",
       "      <th>id</th>\n",
       "      <th>nome</th>\n",
       "      <th>host_id</th>\n",
       "      <th>host_name</th>\n",
       "      <th>bairro_group</th>\n",
       "      <th>bairro</th>\n",
       "      <th>latitude</th>\n",
       "      <th>longitude</th>\n",
       "      <th>room_type</th>\n",
       "      <th>price</th>\n",
       "      <th>minimo_noites</th>\n",
       "      <th>numero_de_reviews</th>\n",
       "      <th>ultima_review</th>\n",
       "      <th>reviews_por_mes</th>\n",
       "      <th>calculado_host_listings_count</th>\n",
       "      <th>disponibilidade_365</th>\n",
       "    </tr>\n",
       "  </thead>\n",
       "  <tbody>\n",
       "    <tr>\n",
       "      <th>48889</th>\n",
       "      <td>36484665</td>\n",
       "      <td>Charming one bedroom - newly renovated rowhouse</td>\n",
       "      <td>8232441</td>\n",
       "      <td>Sabrina</td>\n",
       "      <td>Brooklyn</td>\n",
       "      <td>Bedford-Stuyvesant</td>\n",
       "      <td>40.67853</td>\n",
       "      <td>-73.94995</td>\n",
       "      <td>Private room</td>\n",
       "      <td>70</td>\n",
       "      <td>2</td>\n",
       "      <td>0</td>\n",
       "      <td>NaN</td>\n",
       "      <td>NaN</td>\n",
       "      <td>2</td>\n",
       "      <td>9</td>\n",
       "    </tr>\n",
       "    <tr>\n",
       "      <th>48890</th>\n",
       "      <td>36485057</td>\n",
       "      <td>Affordable room in Bushwick/East Williamsburg</td>\n",
       "      <td>6570630</td>\n",
       "      <td>Marisol</td>\n",
       "      <td>Brooklyn</td>\n",
       "      <td>Bushwick</td>\n",
       "      <td>40.70184</td>\n",
       "      <td>-73.93317</td>\n",
       "      <td>Private room</td>\n",
       "      <td>40</td>\n",
       "      <td>4</td>\n",
       "      <td>0</td>\n",
       "      <td>NaN</td>\n",
       "      <td>NaN</td>\n",
       "      <td>2</td>\n",
       "      <td>36</td>\n",
       "    </tr>\n",
       "    <tr>\n",
       "      <th>48891</th>\n",
       "      <td>36485431</td>\n",
       "      <td>Sunny Studio at Historical Neighborhood</td>\n",
       "      <td>23492952</td>\n",
       "      <td>Ilgar &amp; Aysel</td>\n",
       "      <td>Manhattan</td>\n",
       "      <td>Harlem</td>\n",
       "      <td>40.81475</td>\n",
       "      <td>-73.94867</td>\n",
       "      <td>Entire home/apt</td>\n",
       "      <td>115</td>\n",
       "      <td>10</td>\n",
       "      <td>0</td>\n",
       "      <td>NaN</td>\n",
       "      <td>NaN</td>\n",
       "      <td>1</td>\n",
       "      <td>27</td>\n",
       "    </tr>\n",
       "    <tr>\n",
       "      <th>48892</th>\n",
       "      <td>36485609</td>\n",
       "      <td>43rd St. Time Square-cozy single bed</td>\n",
       "      <td>30985759</td>\n",
       "      <td>Taz</td>\n",
       "      <td>Manhattan</td>\n",
       "      <td>Hell's Kitchen</td>\n",
       "      <td>40.75751</td>\n",
       "      <td>-73.99112</td>\n",
       "      <td>Shared room</td>\n",
       "      <td>55</td>\n",
       "      <td>1</td>\n",
       "      <td>0</td>\n",
       "      <td>NaN</td>\n",
       "      <td>NaN</td>\n",
       "      <td>6</td>\n",
       "      <td>2</td>\n",
       "    </tr>\n",
       "    <tr>\n",
       "      <th>48893</th>\n",
       "      <td>36487245</td>\n",
       "      <td>Trendy duplex in the very heart of Hell's Kitchen</td>\n",
       "      <td>68119814</td>\n",
       "      <td>Christophe</td>\n",
       "      <td>Manhattan</td>\n",
       "      <td>Hell's Kitchen</td>\n",
       "      <td>40.76404</td>\n",
       "      <td>-73.98933</td>\n",
       "      <td>Private room</td>\n",
       "      <td>90</td>\n",
       "      <td>7</td>\n",
       "      <td>0</td>\n",
       "      <td>NaN</td>\n",
       "      <td>NaN</td>\n",
       "      <td>1</td>\n",
       "      <td>23</td>\n",
       "    </tr>\n",
       "  </tbody>\n",
       "</table>\n",
       "</div>"
      ],
      "text/plain": [
       "             id                                               nome   host_id  \\\n",
       "48889  36484665    Charming one bedroom - newly renovated rowhouse   8232441   \n",
       "48890  36485057      Affordable room in Bushwick/East Williamsburg   6570630   \n",
       "48891  36485431            Sunny Studio at Historical Neighborhood  23492952   \n",
       "48892  36485609               43rd St. Time Square-cozy single bed  30985759   \n",
       "48893  36487245  Trendy duplex in the very heart of Hell's Kitchen  68119814   \n",
       "\n",
       "           host_name bairro_group              bairro  latitude  longitude  \\\n",
       "48889        Sabrina     Brooklyn  Bedford-Stuyvesant  40.67853  -73.94995   \n",
       "48890        Marisol     Brooklyn            Bushwick  40.70184  -73.93317   \n",
       "48891  Ilgar & Aysel    Manhattan              Harlem  40.81475  -73.94867   \n",
       "48892            Taz    Manhattan      Hell's Kitchen  40.75751  -73.99112   \n",
       "48893     Christophe    Manhattan      Hell's Kitchen  40.76404  -73.98933   \n",
       "\n",
       "             room_type  price  minimo_noites  numero_de_reviews ultima_review  \\\n",
       "48889     Private room     70              2                  0           NaN   \n",
       "48890     Private room     40              4                  0           NaN   \n",
       "48891  Entire home/apt    115             10                  0           NaN   \n",
       "48892      Shared room     55              1                  0           NaN   \n",
       "48893     Private room     90              7                  0           NaN   \n",
       "\n",
       "       reviews_por_mes  calculado_host_listings_count  disponibilidade_365  \n",
       "48889              NaN                              2                    9  \n",
       "48890              NaN                              2                   36  \n",
       "48891              NaN                              1                   27  \n",
       "48892              NaN                              6                    2  \n",
       "48893              NaN                              1                   23  "
      ]
     },
     "execution_count": 194,
     "metadata": {},
     "output_type": "execute_result"
    }
   ],
   "source": [
    "df_precificacao.tail()"
   ]
  },
  {
   "cell_type": "code",
   "execution_count": 195,
   "id": "5daf79e2",
   "metadata": {},
   "outputs": [
    {
     "data": {
      "text/plain": [
       "(48894, 16)"
      ]
     },
     "execution_count": 195,
     "metadata": {},
     "output_type": "execute_result"
    }
   ],
   "source": [
    "df_precificacao.shape # Dimensões do dataset"
   ]
  },
  {
   "cell_type": "code",
   "execution_count": 197,
   "id": "5a4209bb",
   "metadata": {},
   "outputs": [
    {
     "data": {
      "text/plain": [
       "id                                   0\n",
       "nome                                16\n",
       "host_id                              0\n",
       "host_name                           21\n",
       "bairro_group                         0\n",
       "bairro                               0\n",
       "latitude                             0\n",
       "longitude                            0\n",
       "room_type                            0\n",
       "price                                0\n",
       "minimo_noites                        0\n",
       "numero_de_reviews                    0\n",
       "ultima_review                    10052\n",
       "reviews_por_mes                  10052\n",
       "calculado_host_listings_count        0\n",
       "disponibilidade_365                  0\n",
       "dtype: int64"
      ]
     },
     "execution_count": 197,
     "metadata": {},
     "output_type": "execute_result"
    }
   ],
   "source": [
    "df_precificacao.isnull().sum() # Número de dados ausentes em cada coluna"
   ]
  },
  {
   "cell_type": "code",
   "execution_count": 198,
   "id": "a910b6b3",
   "metadata": {},
   "outputs": [
    {
     "data": {
      "text/plain": [
       "id                               48894\n",
       "nome                             47904\n",
       "host_id                          37457\n",
       "host_name                        11452\n",
       "bairro_group                         5\n",
       "bairro                             221\n",
       "latitude                         19048\n",
       "longitude                        14718\n",
       "room_type                            3\n",
       "price                              674\n",
       "minimo_noites                      109\n",
       "numero_de_reviews                  394\n",
       "ultima_review                     1764\n",
       "reviews_por_mes                    937\n",
       "calculado_host_listings_count       47\n",
       "disponibilidade_365                366\n",
       "dtype: int64"
      ]
     },
     "execution_count": 198,
     "metadata": {},
     "output_type": "execute_result"
    }
   ],
   "source": [
    "df_precificacao.nunique()  # Número de valores únicos em cada coluna"
   ]
  },
  {
   "cell_type": "code",
   "execution_count": 199,
   "id": "a34c0f11",
   "metadata": {
    "scrolled": true
   },
   "outputs": [
    {
     "data": {
      "text/html": [
       "<div>\n",
       "<style scoped>\n",
       "    .dataframe tbody tr th:only-of-type {\n",
       "        vertical-align: middle;\n",
       "    }\n",
       "\n",
       "    .dataframe tbody tr th {\n",
       "        vertical-align: top;\n",
       "    }\n",
       "\n",
       "    .dataframe thead th {\n",
       "        text-align: right;\n",
       "    }\n",
       "</style>\n",
       "<table border=\"1\" class=\"dataframe\">\n",
       "  <thead>\n",
       "    <tr style=\"text-align: right;\">\n",
       "      <th></th>\n",
       "      <th>id</th>\n",
       "      <th>host_id</th>\n",
       "      <th>latitude</th>\n",
       "      <th>longitude</th>\n",
       "      <th>price</th>\n",
       "      <th>minimo_noites</th>\n",
       "      <th>numero_de_reviews</th>\n",
       "      <th>reviews_por_mes</th>\n",
       "      <th>calculado_host_listings_count</th>\n",
       "      <th>disponibilidade_365</th>\n",
       "    </tr>\n",
       "  </thead>\n",
       "  <tbody>\n",
       "    <tr>\n",
       "      <th>count</th>\n",
       "      <td>4.889400e+04</td>\n",
       "      <td>4.889400e+04</td>\n",
       "      <td>48894.000000</td>\n",
       "      <td>48894.000000</td>\n",
       "      <td>48894.000000</td>\n",
       "      <td>48894.000000</td>\n",
       "      <td>48894.000000</td>\n",
       "      <td>38842.000000</td>\n",
       "      <td>48894.000000</td>\n",
       "      <td>48894.000000</td>\n",
       "    </tr>\n",
       "    <tr>\n",
       "      <th>mean</th>\n",
       "      <td>1.901753e+07</td>\n",
       "      <td>6.762139e+07</td>\n",
       "      <td>40.728951</td>\n",
       "      <td>-73.952169</td>\n",
       "      <td>152.720763</td>\n",
       "      <td>7.030085</td>\n",
       "      <td>23.274758</td>\n",
       "      <td>1.373251</td>\n",
       "      <td>7.144005</td>\n",
       "      <td>112.776169</td>\n",
       "    </tr>\n",
       "    <tr>\n",
       "      <th>std</th>\n",
       "      <td>1.098288e+07</td>\n",
       "      <td>7.861118e+07</td>\n",
       "      <td>0.054529</td>\n",
       "      <td>0.046157</td>\n",
       "      <td>240.156625</td>\n",
       "      <td>20.510741</td>\n",
       "      <td>44.550991</td>\n",
       "      <td>1.680453</td>\n",
       "      <td>32.952855</td>\n",
       "      <td>131.618692</td>\n",
       "    </tr>\n",
       "    <tr>\n",
       "      <th>min</th>\n",
       "      <td>2.595000e+03</td>\n",
       "      <td>2.438000e+03</td>\n",
       "      <td>40.499790</td>\n",
       "      <td>-74.244420</td>\n",
       "      <td>0.000000</td>\n",
       "      <td>1.000000</td>\n",
       "      <td>0.000000</td>\n",
       "      <td>0.010000</td>\n",
       "      <td>1.000000</td>\n",
       "      <td>0.000000</td>\n",
       "    </tr>\n",
       "    <tr>\n",
       "      <th>25%</th>\n",
       "      <td>9.472371e+06</td>\n",
       "      <td>7.822737e+06</td>\n",
       "      <td>40.690100</td>\n",
       "      <td>-73.983070</td>\n",
       "      <td>69.000000</td>\n",
       "      <td>1.000000</td>\n",
       "      <td>1.000000</td>\n",
       "      <td>0.190000</td>\n",
       "      <td>1.000000</td>\n",
       "      <td>0.000000</td>\n",
       "    </tr>\n",
       "    <tr>\n",
       "      <th>50%</th>\n",
       "      <td>1.967743e+07</td>\n",
       "      <td>3.079553e+07</td>\n",
       "      <td>40.723075</td>\n",
       "      <td>-73.955680</td>\n",
       "      <td>106.000000</td>\n",
       "      <td>3.000000</td>\n",
       "      <td>5.000000</td>\n",
       "      <td>0.720000</td>\n",
       "      <td>1.000000</td>\n",
       "      <td>45.000000</td>\n",
       "    </tr>\n",
       "    <tr>\n",
       "      <th>75%</th>\n",
       "      <td>2.915225e+07</td>\n",
       "      <td>1.074344e+08</td>\n",
       "      <td>40.763117</td>\n",
       "      <td>-73.936273</td>\n",
       "      <td>175.000000</td>\n",
       "      <td>5.000000</td>\n",
       "      <td>24.000000</td>\n",
       "      <td>2.020000</td>\n",
       "      <td>2.000000</td>\n",
       "      <td>227.000000</td>\n",
       "    </tr>\n",
       "    <tr>\n",
       "      <th>max</th>\n",
       "      <td>3.648724e+07</td>\n",
       "      <td>2.743213e+08</td>\n",
       "      <td>40.913060</td>\n",
       "      <td>-73.712990</td>\n",
       "      <td>10000.000000</td>\n",
       "      <td>1250.000000</td>\n",
       "      <td>629.000000</td>\n",
       "      <td>58.500000</td>\n",
       "      <td>327.000000</td>\n",
       "      <td>365.000000</td>\n",
       "    </tr>\n",
       "  </tbody>\n",
       "</table>\n",
       "</div>"
      ],
      "text/plain": [
       "                 id       host_id      latitude     longitude         price  \\\n",
       "count  4.889400e+04  4.889400e+04  48894.000000  48894.000000  48894.000000   \n",
       "mean   1.901753e+07  6.762139e+07     40.728951    -73.952169    152.720763   \n",
       "std    1.098288e+07  7.861118e+07      0.054529      0.046157    240.156625   \n",
       "min    2.595000e+03  2.438000e+03     40.499790    -74.244420      0.000000   \n",
       "25%    9.472371e+06  7.822737e+06     40.690100    -73.983070     69.000000   \n",
       "50%    1.967743e+07  3.079553e+07     40.723075    -73.955680    106.000000   \n",
       "75%    2.915225e+07  1.074344e+08     40.763117    -73.936273    175.000000   \n",
       "max    3.648724e+07  2.743213e+08     40.913060    -73.712990  10000.000000   \n",
       "\n",
       "       minimo_noites  numero_de_reviews  reviews_por_mes  \\\n",
       "count   48894.000000       48894.000000     38842.000000   \n",
       "mean        7.030085          23.274758         1.373251   \n",
       "std        20.510741          44.550991         1.680453   \n",
       "min         1.000000           0.000000         0.010000   \n",
       "25%         1.000000           1.000000         0.190000   \n",
       "50%         3.000000           5.000000         0.720000   \n",
       "75%         5.000000          24.000000         2.020000   \n",
       "max      1250.000000         629.000000        58.500000   \n",
       "\n",
       "       calculado_host_listings_count  disponibilidade_365  \n",
       "count                   48894.000000         48894.000000  \n",
       "mean                        7.144005           112.776169  \n",
       "std                        32.952855           131.618692  \n",
       "min                         1.000000             0.000000  \n",
       "25%                         1.000000             0.000000  \n",
       "50%                         1.000000            45.000000  \n",
       "75%                         2.000000           227.000000  \n",
       "max                       327.000000           365.000000  "
      ]
     },
     "execution_count": 199,
     "metadata": {},
     "output_type": "execute_result"
    }
   ],
   "source": [
    "df_precificacao.describe()"
   ]
  },
  {
   "cell_type": "code",
   "execution_count": null,
   "id": "c1a10d35",
   "metadata": {},
   "outputs": [],
   "source": [
    "corr_matrix = df_precificacao.corr(numeric_only=True)"
   ]
  },
  {
   "cell_type": "markdown",
   "id": "dc56c630",
   "metadata": {},
   "source": [
    "## Perguntas e Hipóteses\n",
    "\n",
    "### a) Supondo que uma pessoa esteja pensando em investir em um apartamento para alugar na plataforma, onde seria mais indicada a compra?\n",
    "Para responder essa pergunta vamos levar em consideração alguns pontos:\n",
    "* Preço médio por bairro\n",
    "* Disponibilidade ao longo do ano\n",
    "* Popularidade\n",
    "\n",
    "### Preço Médio por Bairro"
   ]
  },
  {
   "cell_type": "code",
   "execution_count": 200,
   "id": "3363aabd",
   "metadata": {},
   "outputs": [
    {
     "data": {
      "text/plain": [
       "bairro_group\n",
       "Manhattan        21661\n",
       "Brooklyn         20103\n",
       "Queens            5666\n",
       "Bronx             1091\n",
       "Staten Island      373\n",
       "Name: count, dtype: int64"
      ]
     },
     "execution_count": 200,
     "metadata": {},
     "output_type": "execute_result"
    }
   ],
   "source": [
    "df_precificacao[\"bairro_group\"].value_counts()"
   ]
  },
  {
   "cell_type": "code",
   "execution_count": 201,
   "id": "3236b181",
   "metadata": {
    "scrolled": true
   },
   "outputs": [
    {
     "data": {
      "text/plain": [
       "bairro_group\n",
       "Manhattan        196.875814\n",
       "Brooklyn         124.381983\n",
       "Staten Island    114.812332\n",
       "Queens            99.517649\n",
       "Bronx             87.496792\n",
       "Name: price, dtype: float64"
      ]
     },
     "execution_count": 201,
     "metadata": {},
     "output_type": "execute_result"
    }
   ],
   "source": [
    "df_precificacao.groupby(\"bairro_group\")[\"price\"].mean().sort_values(ascending=False)"
   ]
  },
  {
   "cell_type": "markdown",
   "id": "112c1d69",
   "metadata": {},
   "source": [
    "### Disponibilidade"
   ]
  },
  {
   "cell_type": "code",
   "execution_count": 203,
   "id": "eb66e9e1",
   "metadata": {},
   "outputs": [
    {
     "data": {
      "text/plain": [
       "bairro_group\n",
       "Brooklyn         100.219122\n",
       "Manhattan        111.979410\n",
       "Queens           144.451818\n",
       "Bronx            165.758937\n",
       "Staten Island    199.678284\n",
       "Name: disponibilidade_365, dtype: float64"
      ]
     },
     "execution_count": 203,
     "metadata": {},
     "output_type": "execute_result"
    }
   ],
   "source": [
    "df_precificacao.groupby(\"bairro_group\")[\"disponibilidade_365\"].mean().sort_values()"
   ]
  },
  {
   "cell_type": "code",
   "execution_count": 204,
   "id": "05e048f4",
   "metadata": {},
   "outputs": [
    {
     "data": {
      "text/plain": [
       "bairro_group\n",
       "Brooklyn         180.011020\n",
       "Manhattan        196.421903\n",
       "Queens           201.035416\n",
       "Bronx            205.995439\n",
       "Staten Island    228.374233\n",
       "Name: disponibilidade_365, dtype: float64"
      ]
     },
     "execution_count": 204,
     "metadata": {},
     "output_type": "execute_result"
    }
   ],
   "source": [
    "df_disponiveis = df_precificacao[df_precificacao[\"disponibilidade_365\"] > 10]\n",
    "df_disponiveis.groupby(\"bairro_group\")[\"disponibilidade_365\"].mean().sort_values()"
   ]
  },
  {
   "cell_type": "code",
   "execution_count": 205,
   "id": "cab21df8",
   "metadata": {
    "scrolled": true
   },
   "outputs": [
    {
     "data": {
      "image/png": "[encoded data removed]",
      "text/plain": [
       "<Figure size 600x300 with 1 Axes>"
      ]
     },
     "metadata": {},
     "output_type": "display_data"
    }
   ],
   "source": [
    "plt.figure(figsize=(6, 3))\n",
    "sns.boxplot(data=df_precificacao, x=\"bairro_group\", y=\"disponibilidade_365\", palette=\"coolwarm\")\n",
    "\n",
    "plt.xlabel(\"Bairro Group\")\n",
    "plt.ylabel(\"Disponibilidade (dias/ano)\")\n",
    "plt.title(\"Distribuição da Disponibilidade por Bairro Group\")\n",
    "plt.show()"
   ]
  },
  {
   "cell_type": "code",
   "execution_count": 206,
   "id": "79d97b9c",
   "metadata": {
    "scrolled": true
   },
   "outputs": [
    {
     "data": {
      "image/png": "[encoded data removed]",
      "text/plain": [
       "<Figure size 600x300 with 1 Axes>"
      ]
     },
     "metadata": {},
     "output_type": "display_data"
    }
   ],
   "source": [
    "plt.figure(figsize=(6, 3))\n",
    "sns.boxplot(data=df_disponiveis, x=\"bairro_group\", y=\"disponibilidade_365\", palette=\"coolwarm\")\n",
    "\n",
    "plt.xlabel(\"Bairro Group\")\n",
    "plt.ylabel(\"Disponibilidade (dias/ano)\")\n",
    "plt.title(\"Distribuição da Disponibilidade por Bairro Group\")\n",
    "plt.show()"
   ]
  },
  {
   "cell_type": "markdown",
   "id": "b25db97d",
   "metadata": {},
   "source": [
    "### Popularidade"
   ]
  },
  {
   "cell_type": "code",
   "execution_count": 207,
   "id": "31d0fe87",
   "metadata": {
    "scrolled": true
   },
   "outputs": [
    {
     "data": {
      "text/plain": [
       "bairro_group\n",
       "Staten Island    30.941019\n",
       "Queens           27.700318\n",
       "Bronx            26.004583\n",
       "Brooklyn         24.203601\n",
       "Manhattan        20.985596\n",
       "Name: numero_de_reviews, dtype: float64"
      ]
     },
     "execution_count": 207,
     "metadata": {},
     "output_type": "execute_result"
    }
   ],
   "source": [
    "df_precificacao.groupby(\"bairro_group\")[\"numero_de_reviews\"].mean().sort_values(ascending=False)"
   ]
  },
  {
   "cell_type": "code",
   "execution_count": 208,
   "id": "e3df397d",
   "metadata": {},
   "outputs": [
    {
     "data": {
      "text/plain": [
       "bairro_group\n",
       "Queens           49.941368\n",
       "Staten Island    47.806723\n",
       "Brooklyn         46.388703\n",
       "Bronx            44.291866\n",
       "Manhattan        44.257371\n",
       "Name: numero_de_reviews, dtype: float64"
      ]
     },
     "execution_count": 208,
     "metadata": {},
     "output_type": "execute_result"
    }
   ],
   "source": [
    "df_com_reviews = df_precificacao[df_precificacao[\"numero_de_reviews\"] > 5]\n",
    "df_com_reviews.groupby(\"bairro_group\")[\"numero_de_reviews\"].mean().sort_values(ascending=False)"
   ]
  },
  {
   "cell_type": "code",
   "execution_count": 209,
   "id": "339b78b0",
   "metadata": {},
   "outputs": [
    {
     "data": {
      "text/plain": [
       "(10052, 16)"
      ]
     },
     "execution_count": 209,
     "metadata": {},
     "output_type": "execute_result"
    }
   ],
   "source": [
    "df_precificacao[df_precificacao[\"numero_de_reviews\"] == 0].shape"
   ]
  },
  {
   "cell_type": "code",
   "execution_count": 210,
   "id": "73ce8e5d",
   "metadata": {},
   "outputs": [
    {
     "data": {
      "image/png": "[encoded data removed]",
      "text/plain": [
       "<Figure size 1000x600 with 1 Axes>"
      ]
     },
     "metadata": {},
     "output_type": "display_data"
    }
   ],
   "source": [
    "# Filtrar apenas os imóveis com 0 reviews\n",
    "df_sem_reviews = df_precificacao[df_precificacao['numero_de_reviews'] == 0]\n",
    "\n",
    "plt.figure(figsize=(10,6))\n",
    "sns.histplot(df_sem_reviews['disponibilidade_365'], bins=30)\n",
    "\n",
    "plt.xlabel(\"Disponibilidade (dias/ano)\")\n",
    "plt.ylabel(\"Frequência\")\n",
    "plt.title(\"Distribuição da Disponibilidade para Imóveis sem Reviews\")\n",
    "plt.show()"
   ]
  },
  {
   "cell_type": "markdown",
   "id": "cd142563",
   "metadata": {},
   "source": [
    "Podemos verificar que entre os imóveis com 0 reviews (10052 imóveis) mais de 5000 deles possuem disponibilidade 0 ao longo de todo ano. Isso pode indicar que o imóvel não está mais ou nunca esteve disponível para ser alugado."
   ]
  },
  {
   "cell_type": "code",
   "execution_count": 235,
   "id": "2ac6b636",
   "metadata": {},
   "outputs": [
    {
     "data": {
      "image/png": "[encoded data removed]",
      "text/plain": [
       "<Figure size 1000x600 with 1 Axes>"
      ]
     },
     "metadata": {},
     "output_type": "display_data"
    }
   ],
   "source": [
    "# Filtrar apenas os imóveis com mais de 0 reviews\n",
    "df_com_reviews = df_precificacao[df_precificacao['numero_de_reviews'] > 10]\n",
    "\n",
    "plt.figure(figsize=(10,6))\n",
    "sns.histplot(df_com_reviews['disponibilidade_365'], bins=30)\n",
    "\n",
    "plt.xlabel(\"Disponibilidade (dias/ano)\")\n",
    "plt.ylabel(\"Frequência\")\n",
    "plt.title(\"Distribuição da Disponibilidade para Imóveis com alguma Review\")\n",
    "plt.show()"
   ]
  },
  {
   "cell_type": "markdown",
   "id": "6e4a3ba0",
   "metadata": {},
   "source": [
    "Já para imóveis com mais de 0 reviews, também possuimos um alto número de instâncias com nenhuma disponibilidade ao longo do ano, isso pode indicar que esses imóveis foram alugados no passado, mas já não estão mais disponíveis. Vamos então analisar as datas das últimas reviews:"
   ]
  },
  {
   "cell_type": "code",
   "execution_count": 213,
   "id": "67e18a30",
   "metadata": {},
   "outputs": [],
   "source": [
    "df_precificacao['ultima_review'] = pd.to_datetime(df_precificacao['ultima_review'], errors='coerce')\n"
   ]
  },
  {
   "cell_type": "code",
   "execution_count": 214,
   "id": "e92ceda4",
   "metadata": {},
   "outputs": [
    {
     "data": {
      "text/plain": [
       "Timestamp('2019-07-08 00:00:00')"
      ]
     },
     "execution_count": 214,
     "metadata": {},
     "output_type": "execute_result"
    }
   ],
   "source": [
    "# Verificando a data mais recente\n",
    "df_precificacao[\"ultima_review\"].max()"
   ]
  },
  {
   "cell_type": "code",
   "execution_count": 215,
   "id": "7cc6201a",
   "metadata": {},
   "outputs": [
    {
     "data": {
      "text/plain": [
       "Timestamp('2011-03-28 00:00:00')"
      ]
     },
     "execution_count": 215,
     "metadata": {},
     "output_type": "execute_result"
    }
   ],
   "source": [
    "df_precificacao[\"ultima_review\"].min()"
   ]
  },
  {
   "cell_type": "code",
   "execution_count": 241,
   "id": "e6db2e2b",
   "metadata": {
    "scrolled": false
   },
   "outputs": [
    {
     "data": {
      "image/png": "[encoded data removed]",
      "text/plain": [
       "<Figure size 1000x500 with 1 Axes>"
      ]
     },
     "metadata": {},
     "output_type": "display_data"
    },
    {
     "name": "stdout",
     "output_type": "stream",
     "text": [
      "Número de imóveis indisponíveis ao longo do ano:  12688\n",
      "Número médio de reviews para imóveis indisponíveis:  10.959252837326607\n",
      "Número máximo de reviews para imóveis indisponíveis:  1\n"
     ]
    }
   ],
   "source": [
    "df_indisponiveis = df_precificacao[(df_precificacao['numero_de_reviews'] > 0) & (df_precificacao['disponibilidade_365'] == 0)]\n",
    "\n",
    "plt.figure(figsize=(10,5))\n",
    "sns.histplot(df_indisponiveis['ultima_review'], bins=30)\n",
    "plt.xlabel(\"Data da Última Review\")\n",
    "plt.ylabel(\"Frequência\")\n",
    "plt.title(\"Distribuição das Últimas Reviews para Imóveis Indisponíveis\")\n",
    "plt.xticks(rotation=45)\n",
    "plt.show()\n",
    "\n",
    "print(\"Número de imóveis indisponíveis ao longo do ano: \", df_indisponiveis.shape[0])\n",
    "print(\"Número médio de reviews para imóveis indisponíveis: \", df_indisponiveis[\"numero_de_reviews\"].mean())"
   ]
  },
  {
   "cell_type": "markdown",
   "id": "a8095c0b",
   "metadata": {},
   "source": [
    "Considerando que temos reviews recentes para grande parte dos imóveis que tem disponibilidade 0, isso pode indicar que esses imóveis podem ainda estar sendo alugados, mas em outras plataformas."
   ]
  },
  {
   "cell_type": "markdown",
   "id": "27c71764",
   "metadata": {},
   "source": [
    "### Conclusões a)\n",
    "\n",
    "Levando em conta os fatores **preço** e **disponibilidade** de modo que possamos maximizar o rendimendo desse investimento, podemos optar por investir em um bairro com preços altos e com boa taxa de ocupação. Tendo isso em vista, uma boa escolha seria investir em **Manhattan**, uma vez que é o bairro com os maiores preços e com uma demanda alta."
   ]
  },
  {
   "cell_type": "markdown",
   "id": "42ace608",
   "metadata": {},
   "source": [
    "### b) O número mínimo de noites e a disponibilidade ao longo do ano interferem no preço?"
   ]
  },
  {
   "cell_type": "code",
   "execution_count": 242,
   "id": "25b0372a",
   "metadata": {},
   "outputs": [
    {
     "data": {
      "text/plain": [
       "disponibilidade_365\n",
       "0      17533\n",
       "365     1294\n",
       "364      491\n",
       "1        408\n",
       "89       361\n",
       "       ...  \n",
       "195       26\n",
       "183       24\n",
       "196       24\n",
       "181       23\n",
       "202       20\n",
       "Name: count, Length: 366, dtype: int64"
      ]
     },
     "execution_count": 242,
     "metadata": {},
     "output_type": "execute_result"
    }
   ],
   "source": [
    "df_precificacao[\"disponibilidade_365\"].value_counts()"
   ]
  },
  {
   "cell_type": "code",
   "execution_count": 244,
   "id": "c08f4ed3",
   "metadata": {
    "scrolled": true
   },
   "outputs": [
    {
     "data": {
      "text/plain": [
       "price\n",
       "100    2051\n",
       "150    2047\n",
       "50     1534\n",
       "60     1458\n",
       "200    1401\n",
       "       ... \n",
       "780       1\n",
       "386       1\n",
       "888       1\n",
       "483       1\n",
       "338       1\n",
       "Name: count, Length: 674, dtype: int64"
      ]
     },
     "execution_count": 244,
     "metadata": {},
     "output_type": "execute_result"
    }
   ],
   "source": [
    "df_precificacao[\"price\"].value_counts()"
   ]
  },
  {
   "cell_type": "code",
   "execution_count": 245,
   "id": "589197b8",
   "metadata": {},
   "outputs": [],
   "source": [
    "df_teste = df_precificacao[~df_precificacao[\"disponibilidade_365\"].isin([0, 365, 364, 1])]"
   ]
  },
  {
   "cell_type": "code",
   "execution_count": 248,
   "id": "2f46b0a9",
   "metadata": {},
   "outputs": [
    {
     "data": {
      "text/plain": [
       "disponibilidade_365\n",
       "89     361\n",
       "5      340\n",
       "3      306\n",
       "179    301\n",
       "90     290\n",
       "      ... \n",
       "195     26\n",
       "183     24\n",
       "196     24\n",
       "181     23\n",
       "202     20\n",
       "Name: count, Length: 362, dtype: int64"
      ]
     },
     "execution_count": 248,
     "metadata": {},
     "output_type": "execute_result"
    }
   ],
   "source": [
    "df_teste[\"disponibilidade_365\"].value_counts()"
   ]
  },
  {
   "cell_type": "code",
   "execution_count": 246,
   "id": "5ee6ed89",
   "metadata": {},
   "outputs": [
    {
     "data": {
      "text/html": [
       "<div>\n",
       "<style scoped>\n",
       "    .dataframe tbody tr th:only-of-type {\n",
       "        vertical-align: middle;\n",
       "    }\n",
       "\n",
       "    .dataframe tbody tr th {\n",
       "        vertical-align: top;\n",
       "    }\n",
       "\n",
       "    .dataframe thead th {\n",
       "        text-align: right;\n",
       "    }\n",
       "</style>\n",
       "<table border=\"1\" class=\"dataframe\">\n",
       "  <thead>\n",
       "    <tr style=\"text-align: right;\">\n",
       "      <th></th>\n",
       "      <th>minimo_noites</th>\n",
       "      <th>price</th>\n",
       "    </tr>\n",
       "  </thead>\n",
       "  <tbody>\n",
       "    <tr>\n",
       "      <th>minimo_noites</th>\n",
       "      <td>1.000000</td>\n",
       "      <td>0.033924</td>\n",
       "    </tr>\n",
       "    <tr>\n",
       "      <th>price</th>\n",
       "      <td>0.033924</td>\n",
       "      <td>1.000000</td>\n",
       "    </tr>\n",
       "  </tbody>\n",
       "</table>\n",
       "</div>"
      ],
      "text/plain": [
       "               minimo_noites     price\n",
       "minimo_noites       1.000000  0.033924\n",
       "price               0.033924  1.000000"
      ]
     },
     "execution_count": 246,
     "metadata": {},
     "output_type": "execute_result"
    }
   ],
   "source": [
    "df_teste[[\"minimo_noites\", \"price\"]].corr()"
   ]
  },
  {
   "cell_type": "code",
   "execution_count": 249,
   "id": "0ecf76fa",
   "metadata": {},
   "outputs": [
    {
     "data": {
      "text/html": [
       "<div>\n",
       "<style scoped>\n",
       "    .dataframe tbody tr th:only-of-type {\n",
       "        vertical-align: middle;\n",
       "    }\n",
       "\n",
       "    .dataframe tbody tr th {\n",
       "        vertical-align: top;\n",
       "    }\n",
       "\n",
       "    .dataframe thead th {\n",
       "        text-align: right;\n",
       "    }\n",
       "</style>\n",
       "<table border=\"1\" class=\"dataframe\">\n",
       "  <thead>\n",
       "    <tr style=\"text-align: right;\">\n",
       "      <th></th>\n",
       "      <th>price</th>\n",
       "      <th>disponibilidade_365</th>\n",
       "    </tr>\n",
       "  </thead>\n",
       "  <tbody>\n",
       "    <tr>\n",
       "      <th>price</th>\n",
       "      <td>1.000000</td>\n",
       "      <td>0.051698</td>\n",
       "    </tr>\n",
       "    <tr>\n",
       "      <th>disponibilidade_365</th>\n",
       "      <td>0.051698</td>\n",
       "      <td>1.000000</td>\n",
       "    </tr>\n",
       "  </tbody>\n",
       "</table>\n",
       "</div>"
      ],
      "text/plain": [
       "                        price  disponibilidade_365\n",
       "price                1.000000             0.051698\n",
       "disponibilidade_365  0.051698             1.000000"
      ]
     },
     "execution_count": 249,
     "metadata": {},
     "output_type": "execute_result"
    }
   ],
   "source": [
    "df_teste[[\"price\", \"disponibilidade_365\"]].corr()"
   ]
  },
  {
   "cell_type": "markdown",
   "id": "bb70e270",
   "metadata": {},
   "source": [
    "### c) Existe algum padrão no texto do nome do local para lugares de mais alto valor?"
   ]
  },
  {
   "cell_type": "code",
   "execution_count": 219,
   "id": "969e5c4f",
   "metadata": {},
   "outputs": [
    {
     "data": {
      "text/html": [
       "<div>\n",
       "<style scoped>\n",
       "    .dataframe tbody tr th:only-of-type {\n",
       "        vertical-align: middle;\n",
       "    }\n",
       "\n",
       "    .dataframe tbody tr th {\n",
       "        vertical-align: top;\n",
       "    }\n",
       "\n",
       "    .dataframe thead th {\n",
       "        text-align: right;\n",
       "    }\n",
       "</style>\n",
       "<table border=\"1\" class=\"dataframe\">\n",
       "  <thead>\n",
       "    <tr style=\"text-align: right;\">\n",
       "      <th></th>\n",
       "      <th>nome</th>\n",
       "      <th>price</th>\n",
       "    </tr>\n",
       "  </thead>\n",
       "  <tbody>\n",
       "    <tr>\n",
       "      <th>9150</th>\n",
       "      <td>Furnished room in Astoria apartment</td>\n",
       "      <td>10000</td>\n",
       "    </tr>\n",
       "    <tr>\n",
       "      <th>29237</th>\n",
       "      <td>1-BR Lincoln Center</td>\n",
       "      <td>10000</td>\n",
       "    </tr>\n",
       "    <tr>\n",
       "      <th>17691</th>\n",
       "      <td>Luxury 1 bedroom apt. -stunning Manhattan views</td>\n",
       "      <td>10000</td>\n",
       "    </tr>\n",
       "    <tr>\n",
       "      <th>12341</th>\n",
       "      <td>Quiet, Clean, Lit @ LES &amp; Chinatown</td>\n",
       "      <td>9999</td>\n",
       "    </tr>\n",
       "    <tr>\n",
       "      <th>40432</th>\n",
       "      <td>2br - The Heart of NYC: Manhattans Lower East ...</td>\n",
       "      <td>9999</td>\n",
       "    </tr>\n",
       "    <tr>\n",
       "      <th>6529</th>\n",
       "      <td>Spanish Harlem Apt</td>\n",
       "      <td>9999</td>\n",
       "    </tr>\n",
       "    <tr>\n",
       "      <th>30267</th>\n",
       "      <td>Beautiful/Spacious 1 bed luxury flat-TriBeCa/Soho</td>\n",
       "      <td>8500</td>\n",
       "    </tr>\n",
       "    <tr>\n",
       "      <th>4376</th>\n",
       "      <td>Film Location</td>\n",
       "      <td>8000</td>\n",
       "    </tr>\n",
       "    <tr>\n",
       "      <th>29661</th>\n",
       "      <td>East 72nd Townhouse by (Hidden by Airbnb)</td>\n",
       "      <td>7703</td>\n",
       "    </tr>\n",
       "    <tr>\n",
       "      <th>45665</th>\n",
       "      <td>Gem of east Flatbush</td>\n",
       "      <td>7500</td>\n",
       "    </tr>\n",
       "    <tr>\n",
       "      <th>42522</th>\n",
       "      <td>70' Luxury MotorYacht on the Hudson</td>\n",
       "      <td>7500</td>\n",
       "    </tr>\n",
       "    <tr>\n",
       "      <th>44033</th>\n",
       "      <td>3000 sq ft daylight photo studio</td>\n",
       "      <td>6800</td>\n",
       "    </tr>\n",
       "    <tr>\n",
       "      <th>37193</th>\n",
       "      <td>Apartment New York \\nHell’s Kitchens</td>\n",
       "      <td>6500</td>\n",
       "    </tr>\n",
       "    <tr>\n",
       "      <th>3773</th>\n",
       "      <td>SUPER BOWL Brooklyn Duplex Apt!!</td>\n",
       "      <td>6500</td>\n",
       "    </tr>\n",
       "    <tr>\n",
       "      <th>48042</th>\n",
       "      <td>Luxury TriBeCa Apartment at an amazing price</td>\n",
       "      <td>6500</td>\n",
       "    </tr>\n",
       "    <tr>\n",
       "      <th>29663</th>\n",
       "      <td>Park Avenue Mansion by (Hidden by Airbnb)</td>\n",
       "      <td>6419</td>\n",
       "    </tr>\n",
       "    <tr>\n",
       "      <th>15559</th>\n",
       "      <td>Luxury townhouse Greenwich Village</td>\n",
       "      <td>6000</td>\n",
       "    </tr>\n",
       "    <tr>\n",
       "      <th>3536</th>\n",
       "      <td>UWS 1BR w/backyard + block from CP</td>\n",
       "      <td>6000</td>\n",
       "    </tr>\n",
       "    <tr>\n",
       "      <th>3719</th>\n",
       "      <td>SuperBowl Penthouse Loft 3,000 sqft</td>\n",
       "      <td>5250</td>\n",
       "    </tr>\n",
       "    <tr>\n",
       "      <th>43008</th>\n",
       "      <td>Midtown Manhattan great location (Gramacy park)</td>\n",
       "      <td>5100</td>\n",
       "    </tr>\n",
       "  </tbody>\n",
       "</table>\n",
       "</div>"
      ],
      "text/plain": [
       "                                                    nome  price\n",
       "9150                 Furnished room in Astoria apartment  10000\n",
       "29237                                1-BR Lincoln Center  10000\n",
       "17691    Luxury 1 bedroom apt. -stunning Manhattan views  10000\n",
       "12341                Quiet, Clean, Lit @ LES & Chinatown   9999\n",
       "40432  2br - The Heart of NYC: Manhattans Lower East ...   9999\n",
       "6529                                  Spanish Harlem Apt   9999\n",
       "30267  Beautiful/Spacious 1 bed luxury flat-TriBeCa/Soho   8500\n",
       "4376                                       Film Location   8000\n",
       "29661          East 72nd Townhouse by (Hidden by Airbnb)   7703\n",
       "45665                               Gem of east Flatbush   7500\n",
       "42522                70' Luxury MotorYacht on the Hudson   7500\n",
       "44033                   3000 sq ft daylight photo studio   6800\n",
       "37193               Apartment New York \\nHell’s Kitchens   6500\n",
       "3773                    SUPER BOWL Brooklyn Duplex Apt!!   6500\n",
       "48042       Luxury TriBeCa Apartment at an amazing price   6500\n",
       "29663          Park Avenue Mansion by (Hidden by Airbnb)   6419\n",
       "15559                 Luxury townhouse Greenwich Village   6000\n",
       "3536                  UWS 1BR w/backyard + block from CP   6000\n",
       "3719                 SuperBowl Penthouse Loft 3,000 sqft   5250\n",
       "43008    Midtown Manhattan great location (Gramacy park)   5100"
      ]
     },
     "execution_count": 219,
     "metadata": {},
     "output_type": "execute_result"
    }
   ],
   "source": [
    "df_precificacao.sort_values(by=\"price\", ascending=False)[[\"nome\", \"price\"]].head(20)"
   ]
  },
  {
   "cell_type": "code",
   "execution_count": 221,
   "id": "dd15a04f",
   "metadata": {},
   "outputs": [
    {
     "data": {
      "text/html": [
       "<div>\n",
       "<style scoped>\n",
       "    .dataframe tbody tr th:only-of-type {\n",
       "        vertical-align: middle;\n",
       "    }\n",
       "\n",
       "    .dataframe tbody tr th {\n",
       "        vertical-align: top;\n",
       "    }\n",
       "\n",
       "    .dataframe thead th {\n",
       "        text-align: right;\n",
       "    }\n",
       "</style>\n",
       "<table border=\"1\" class=\"dataframe\">\n",
       "  <thead>\n",
       "    <tr style=\"text-align: right;\">\n",
       "      <th></th>\n",
       "      <th>nome</th>\n",
       "      <th>price</th>\n",
       "    </tr>\n",
       "  </thead>\n",
       "  <tbody>\n",
       "    <tr>\n",
       "      <th>25795</th>\n",
       "      <td>Cozy yet spacious private brownstone bedroom</td>\n",
       "      <td>0</td>\n",
       "    </tr>\n",
       "    <tr>\n",
       "      <th>25432</th>\n",
       "      <td>★Hostel Style Room | Ideal Traveling Buddies★</td>\n",
       "      <td>0</td>\n",
       "    </tr>\n",
       "    <tr>\n",
       "      <th>25777</th>\n",
       "      <td>Modern apartment in the heart of Williamsburg</td>\n",
       "      <td>0</td>\n",
       "    </tr>\n",
       "    <tr>\n",
       "      <th>25752</th>\n",
       "      <td>Sunny, Quiet Room in Greenpoint</td>\n",
       "      <td>0</td>\n",
       "    </tr>\n",
       "    <tr>\n",
       "      <th>26865</th>\n",
       "      <td>Best Coliving space ever! Shared room.</td>\n",
       "      <td>0</td>\n",
       "    </tr>\n",
       "    <tr>\n",
       "      <th>25793</th>\n",
       "      <td>Spacious comfortable master bedroom with nice ...</td>\n",
       "      <td>0</td>\n",
       "    </tr>\n",
       "    <tr>\n",
       "      <th>23160</th>\n",
       "      <td>Huge Brooklyn Brownstone Living, Close to it all.</td>\n",
       "      <td>0</td>\n",
       "    </tr>\n",
       "    <tr>\n",
       "      <th>26258</th>\n",
       "      <td>the best you can find</td>\n",
       "      <td>0</td>\n",
       "    </tr>\n",
       "    <tr>\n",
       "      <th>26840</th>\n",
       "      <td>Coliving in Brooklyn! Modern design / Shared room</td>\n",
       "      <td>0</td>\n",
       "    </tr>\n",
       "    <tr>\n",
       "      <th>25633</th>\n",
       "      <td>MARTIAL LOFT 3: REDEMPTION (upstairs, 2nd room)</td>\n",
       "      <td>0</td>\n",
       "    </tr>\n",
       "    <tr>\n",
       "      <th>25794</th>\n",
       "      <td>Contemporary bedroom in brownstone with nice view</td>\n",
       "      <td>0</td>\n",
       "    </tr>\n",
       "    <tr>\n",
       "      <th>33504</th>\n",
       "      <td>Room with a view</td>\n",
       "      <td>10</td>\n",
       "    </tr>\n",
       "    <tr>\n",
       "      <th>33224</th>\n",
       "      <td>Voted #1 Airbnb In NYC</td>\n",
       "      <td>10</td>\n",
       "    </tr>\n",
       "    <tr>\n",
       "      <th>23255</th>\n",
       "      <td>Quiet, Cozy UES Studio Near the Subway</td>\n",
       "      <td>10</td>\n",
       "    </tr>\n",
       "    <tr>\n",
       "      <th>32809</th>\n",
       "      <td>Gigantic Sunny Room in Park Slope-Private Back...</td>\n",
       "      <td>10</td>\n",
       "    </tr>\n",
       "    <tr>\n",
       "      <th>34445</th>\n",
       "      <td>Bronx Apart</td>\n",
       "      <td>10</td>\n",
       "    </tr>\n",
       "    <tr>\n",
       "      <th>22260</th>\n",
       "      <td>Newly renovated, fully furnished room in Brooklyn</td>\n",
       "      <td>10</td>\n",
       "    </tr>\n",
       "    <tr>\n",
       "      <th>22286</th>\n",
       "      <td>Jen Apt</td>\n",
       "      <td>10</td>\n",
       "    </tr>\n",
       "    <tr>\n",
       "      <th>47217</th>\n",
       "      <td>Beautiful room in Bushwick</td>\n",
       "      <td>10</td>\n",
       "    </tr>\n",
       "    <tr>\n",
       "      <th>35385</th>\n",
       "      <td>Cozy room in a three-bedroom House</td>\n",
       "      <td>10</td>\n",
       "    </tr>\n",
       "  </tbody>\n",
       "</table>\n",
       "</div>"
      ],
      "text/plain": [
       "                                                    nome  price\n",
       "25795       Cozy yet spacious private brownstone bedroom      0\n",
       "25432      ★Hostel Style Room | Ideal Traveling Buddies★      0\n",
       "25777      Modern apartment in the heart of Williamsburg      0\n",
       "25752                    Sunny, Quiet Room in Greenpoint      0\n",
       "26865             Best Coliving space ever! Shared room.      0\n",
       "25793  Spacious comfortable master bedroom with nice ...      0\n",
       "23160  Huge Brooklyn Brownstone Living, Close to it all.      0\n",
       "26258                              the best you can find      0\n",
       "26840  Coliving in Brooklyn! Modern design / Shared room      0\n",
       "25633    MARTIAL LOFT 3: REDEMPTION (upstairs, 2nd room)      0\n",
       "25794  Contemporary bedroom in brownstone with nice view      0\n",
       "33504                                   Room with a view     10\n",
       "33224                             Voted #1 Airbnb In NYC     10\n",
       "23255             Quiet, Cozy UES Studio Near the Subway     10\n",
       "32809  Gigantic Sunny Room in Park Slope-Private Back...     10\n",
       "34445                                        Bronx Apart     10\n",
       "22260  Newly renovated, fully furnished room in Brooklyn     10\n",
       "22286                                            Jen Apt     10\n",
       "47217                         Beautiful room in Bushwick     10\n",
       "35385                 Cozy room in a three-bedroom House     10"
      ]
     },
     "execution_count": 221,
     "metadata": {},
     "output_type": "execute_result"
    }
   ],
   "source": [
    "df_precificacao.sort_values(by=\"price\")[[\"nome\", \"price\"]].head(20)"
   ]
  },
  {
   "cell_type": "markdown",
   "id": "08b17cf6",
   "metadata": {},
   "source": [
    "Não parece haver um padrão claro em relação ao nome dos imóveis mais caros, talvez o máximo que poderiamos dizer ao comparar com os imóveis de menor valor é que os mais caros possuem nomes mais elaborados e organizados. Ademais, considerando também que a quantidade de valores únicos para essa coluna é praticamente igual ao número de linhas do dataset, é possível concluir que o nome do anúncio não é uma feature que agregaria informações relevantes para a etapa de desenvolvimento do modelo preditivo."
   ]
  }
 ],
 "metadata": {
  "kernelspec": {
   "display_name": "Python 3 (ipykernel)",
   "language": "python",
   "name": "python3"
  },
  "language_info": {
   "codemirror_mode": {
    "name": "ipython",
    "version": 3
   },
   "file_extension": ".py",
   "mimetype": "text/x-python",
   "name": "python",
   "nbconvert_exporter": "python",
   "pygments_lexer": "ipython3",
   "version": "3.11.5"
  }
 },
 "nbformat": 4,
 "nbformat_minor": 5
}
